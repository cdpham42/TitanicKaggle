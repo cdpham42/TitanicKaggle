{
 "cells": [
  {
   "cell_type": "markdown",
   "metadata": {},
   "source": [
    "# TitanicKaggle\n",
    "Titanic Machine Learning Challenge from Kaggle\n",
    "\n",
    "From: https://www.kaggle.com/c/titanic\n",
    "\n",
    "## Competition Description\n",
    "The sinking of the RMS Titanic is one of the most infamous shipwrecks in history.  On April 15, 1912, during her maiden voyage, the Titanic sank after colliding with an iceberg, killing 1502 out of 2224 passengers and crew. This sensational tragedy shocked the international community and led to better safety regulations for ships.\n",
    "\n",
    "One of the reasons that the shipwreck led to such loss of life was that there were not enough lifeboats for the passengers and crew. Although there was some element of luck involved in surviving the sinking, some groups of people were more likely to survive than others, such as women, children, and the upper-class.\n",
    "\n",
    "In this challenge, we ask you to complete the analysis of what sorts of people were likely to survive. In particular, we ask you to apply the tools of machine learning to predict which passengers survived the tragedy.\n",
    "\n",
    "### Practice Skills\n",
    "Binary classification\n",
    "Python and R basics\n",
    "\n",
    "### Overview\n",
    "The data has been split into two groups:\n",
    "\n",
    "training set (train.csv)\n",
    "test set (test.csv)\n",
    "The training set should be used to build your machine learning models. For the training set, we provide the outcome (also known as the “ground truth”) for each passenger. Your model will be based on “features” like passengers’ gender and class. You can also use feature engineering to create new features.\n",
    "\n",
    "The test set should be used to see how well your model performs on unseen data. For the test set, we do not provide the ground truth for each passenger. It is your job to predict these outcomes. For each passenger in the test set, use the model you trained to predict whether or not they survived the sinking of the Titanic.\n",
    "\n",
    "We also include gender_submission.csv, a set of predictions that assume all and only female passengers survive, as an example of what a submission file should look like."
   ]
  },
  {
   "cell_type": "markdown",
   "metadata": {},
   "source": [
    "### Import Modules and Data"
   ]
  },
  {
   "cell_type": "code",
   "execution_count": 1,
   "metadata": {},
   "outputs": [],
   "source": [
    "# %% Import Modules\n",
    "\n",
    "import pandas as pd\n",
    "import numpy as np\n",
    "from sklearn.naive_bayes import MultinomialNB\n",
    "from sklearn.ensemble import RandomForestClassifier\n",
    "from sklearn.model_selection import train_test_split\n",
    "from sklearn.metrics import roc_curve, auc\n",
    "from itertools import compress, product\n",
    "import matplotlib.pyplot as plt\n",
    "import warnings\n",
    "\n",
    "warnings.simplefilter(action='ignore', category=FutureWarning)\n",
    "%matplotlib inline"
   ]
  },
  {
   "cell_type": "code",
   "execution_count": 2,
   "metadata": {},
   "outputs": [],
   "source": [
    "# %% Import Data\n",
    "\n",
    "train_data = pd.read_csv(\"data/train.csv\")\n",
    "test_data = pd.read_csv(\"data/test.csv\")\n"
   ]
  },
  {
   "cell_type": "markdown",
   "metadata": {},
   "source": [
    "### Data Exploration\n",
    "\n",
    "Here, I want to explore some basic characteristics of the dataset: population, number of survivors, characteristics of the survivors. Based on popular belief (i.e. prioritization of women and children), I predict that the passenger's sex, age, and class will play a large role in whether or not an individual survived."
   ]
  },
  {
   "cell_type": "code",
   "execution_count": 3,
   "metadata": {},
   "outputs": [
    {
     "name": "stdout",
     "output_type": "stream",
     "text": [
      "['PassengerId', 'Survived', 'Pclass', 'Name', 'Sex', 'Age', 'SibSp', 'Parch', 'Ticket', 'Fare', 'Cabin', 'Embarked']\n",
      "   PassengerId  Survived  Pclass  \\\n",
      "0            1         0       3   \n",
      "1            2         1       1   \n",
      "2            3         1       3   \n",
      "3            4         1       1   \n",
      "4            5         0       3   \n",
      "\n",
      "                                                Name     Sex   Age  SibSp  \\\n",
      "0                            Braund, Mr. Owen Harris    male  22.0      1   \n",
      "1  Cumings, Mrs. John Bradley (Florence Briggs Th...  female  38.0      1   \n",
      "2                             Heikkinen, Miss. Laina  female  26.0      0   \n",
      "3       Futrelle, Mrs. Jacques Heath (Lily May Peel)  female  35.0      1   \n",
      "4                           Allen, Mr. William Henry    male  35.0      0   \n",
      "\n",
      "   Parch            Ticket     Fare Cabin Embarked  \n",
      "0      0         A/5 21171   7.2500   NaN        S  \n",
      "1      0          PC 17599  71.2833   C85        C  \n",
      "2      0  STON/O2. 3101282   7.9250   NaN        S  \n",
      "3      0            113803  53.1000  C123        S  \n",
      "4      0            373450   8.0500   NaN        S  \n",
      "   PassengerId  Pclass                                          Name     Sex  \\\n",
      "0          892       3                              Kelly, Mr. James    male   \n",
      "1          893       3              Wilkes, Mrs. James (Ellen Needs)  female   \n",
      "2          894       2                     Myles, Mr. Thomas Francis    male   \n",
      "3          895       3                              Wirz, Mr. Albert    male   \n",
      "4          896       3  Hirvonen, Mrs. Alexander (Helga E Lindqvist)  female   \n",
      "\n",
      "    Age  SibSp  Parch   Ticket     Fare Cabin Embarked  \n",
      "0  34.5      0      0   330911   7.8292   NaN        Q  \n",
      "1  47.0      1      0   363272   7.0000   NaN        S  \n",
      "2  62.0      0      0   240276   9.6875   NaN        Q  \n",
      "3  27.0      0      0   315154   8.6625   NaN        S  \n",
      "4  22.0      1      1  3101298  12.2875   NaN        S  \n",
      "\n",
      "Count of People\n",
      " Sex\n",
      "female    312\n",
      "male      577\n",
      "Name: Embarked, dtype: int64\n",
      "\n",
      "Number of survivors: 342\n",
      "\n",
      "Number of survivors by sex:\n",
      " Sex\n",
      "female    233\n",
      "male      109\n",
      "Name: Survived, dtype: int64\n"
     ]
    }
   ],
   "source": [
    "cols = list(train_data.columns.values)\n",
    "print(cols)\n",
    "\n",
    "print(train_data.head())\n",
    "print(test_data.head())\n",
    "\n",
    "sex = train_data.groupby(\"Sex\").count()\n",
    "print(\"\\nCount of People\\n\",sex[\"Embarked\"])\n",
    "\n",
    "survived = train_data[\"Survived\"].sum()\n",
    "print(\"\\nNumber of survivors:\", survived)\n",
    "\n",
    "survived_sex = train_data.groupby(\"Sex\").sum()\n",
    "print(\"\\nNumber of survivors by sex:\\n\", survived_sex[\"Survived\"])"
   ]
  },
  {
   "cell_type": "markdown",
   "metadata": {},
   "source": [
    "### Data Cleaning and Prep\n",
    "\n",
    "\n",
    "Now I want to clean and prepare the data for use in the machine learning algorithms: removing/replacing NaN and empty data, removing columns that are not useful or useable.\n",
    "\n",
    "The removed features:\n",
    "* Name: A person's name most likely has no quantifiable impact on survivability.\n",
    "* Cabin: Due to the amount of missing/empty data, will not be used.\n",
    "* Ticket: Ticket number is likely in order of the purchase of ticket, not indicative of personal characters.\n",
    "* Fare: Like ticket, the cost of a ticket is not the feature of a person.\n",
    "* Embarked: Location from which a person embarked does not matter in a survival setting.\n",
    "* PassengerID: Merely an identifying value for a passenger, not something that would be used to determine survival.\n",
    "\n",
    "Used features:\n",
    "* Age: Likely to have been used, primarily for determination of children for prioritization of evacuation.\n",
    "* Sex: A common belief that women and children were prioritized.\n",
    "* Pclass: Ticket class may have played a role in higher class persons boarding life boats.\n",
    "* SibSp: Number of siblings aboard may have higher values for children in families, and so could be a useful feature.\n",
    "* Parch: Number of parents/children would have higher values for families, and likely families would try to stay together."
   ]
  },
  {
   "cell_type": "code",
   "execution_count": 4,
   "metadata": {},
   "outputs": [
    {
     "name": "stdout",
     "output_type": "stream",
     "text": [
      "['Pclass', 'Sex', 'Age', 'SibSp', 'Parch']\n"
     ]
    }
   ],
   "source": [
    "# copy data so that making any mistake only needs to re-copy the original data, and not re-import all data.\n",
    "training = train_data\n",
    "\n",
    "# Map strings for female and male to 0 and 1\n",
    "mapping = {\"female\" : 0, \"male\" : 1}\n",
    "training = training.replace(mapping)\n",
    "\n",
    "# Fill Age NaNs with 0, as Age may be a good predictor\n",
    "training[\"Age\"] = training[\"Age\"].fillna(0)\n",
    "\n",
    "# Separate survived column into its own data\n",
    "survived = training[\"Survived\"]\n",
    "training = training.drop(\"Survived\", axis = 1)\n",
    "\n",
    "# Desired features for analysis\n",
    "cols = [\"Pclass\", \"Sex\", \"Age\", \"SibSp\", \"Parch\"]\n",
    "print(cols)\n",
    "\n",
    "# Get combinations of desired features\n",
    "\n",
    "def combinations(items):\n",
    "    return ( set(compress(items,mask)) for mask in product(*[[0,1]]*len(items)) )\n",
    "\n",
    "combos = list(combinations(cols))\n",
    "del combos[0]"
   ]
  },
  {
   "cell_type": "markdown",
   "metadata": {},
   "source": [
    "## Multinomial Naive Bayes\n",
    "\n",
    "First I will implement Multinomial Naive Bayes, a good starting point as it is fairly simplistic, has good performance, and is a popular algorithm for categorization. The algorithm applies Bayes' Theorem with the naive assumption of independence between features."
   ]
  },
  {
   "cell_type": "code",
   "execution_count": 5,
   "metadata": {},
   "outputs": [],
   "source": [
    "def multinb(x, y):\n",
    "    \"\"\"\n",
    "    \n",
    "    This function performs the required functions for fitting and prediction a \n",
    "    Multinomial Naive Bayes\n",
    "    from given x and y datasets.\n",
    "    \n",
    "    Args:\n",
    "        x (array-like): independent data\n",
    "        y (array-like): target data\n",
    "        \n",
    "    Return:\n",
    "        score (float): Mean accuracy of the model on the given test and target \n",
    "        data\n",
    "    \n",
    "    \"\"\"\n",
    "    # Train Test Split\n",
    "    X_train, X_test, y_train, y_test = train_test_split(x, y, test_size = 0.33,\n",
    "                                                        random_state = 0)\n",
    "    #X_train = np.array(X_train).reshape(-1,1)\n",
    "    y_train = np.array(y_train).reshape(-1,1)\n",
    "    #X_test = np.array(X_test).reshape(-1,1)\n",
    "    y_test = np.array(y_test).reshape(-1,1)\n",
    "    \n",
    "    y_train.reshape(-1,1)\n",
    "    \n",
    "    # Fit and predict model\n",
    "    multinb = MultinomialNB()\n",
    "    multinb.fit(X_train, y_train.ravel())\n",
    "    \n",
    "    predicted = multinb.predict(X_test)\n",
    "    predicted\n",
    "    \n",
    "    multinb.predict(X_test)\n",
    "    score = multinb.score(X_test, y_test)\n",
    "    \n",
    "    # Plot\n",
    "    # x_axis = range(len(X_test))\n",
    "    #\n",
    "    # fig,ax = plt.subplots(figsize=(15,10))\n",
    "    # ax.scatter(x_axis, predicted, alpha = 0.3)\n",
    "    # ax.scatter(x_axis, y_test, alpha = 0.3)\n",
    "    \n",
    "    return score\n"
   ]
  },
  {
   "cell_type": "code",
   "execution_count": 6,
   "metadata": {},
   "outputs": [
    {
     "name": "stdout",
     "output_type": "stream",
     "text": [
      "                                   0\n",
      "Age-Sex-Parch               0.732203\n",
      "Age-Sex                     0.728814\n",
      "Age-Sex-Parch-SibSp         0.722034\n",
      "Age-Sex-Parch-Pclass        0.708475\n",
      "Age-Sex-SibSp               0.701695\n",
      "Parch-SibSp-Pclass-Sex-Age  0.691525\n",
      "Age-Sex-Pclass              0.688136\n",
      "Age-Sex-SibSp-Pclass        0.674576\n",
      "Sex-Parch-SibSp-Pclass      0.674576\n",
      "Sex-Parch                   0.674576\n",
      "Sex-Parch-Pclass            0.674576\n",
      "Sex-Parch-SibSp             0.661017\n",
      "Parch-SibSp-Pclass          0.640678\n",
      "Age-Pclass                  0.640678\n",
      "Age-Parch-SibSp-Pclass      0.637288\n",
      "Age-Parch-SibSp             0.633898\n",
      "Parch-SibSp                 0.633898\n",
      "Parch-Pclass                0.630508\n",
      "Age-Parch-Pclass            0.630508\n",
      "Age-SibSp-Pclass            0.623729\n",
      "Sex-Pclass                  0.623729\n",
      "Parch                       0.623729\n",
      "SibSp-Pclass                0.623729\n",
      "SibSp                       0.623729\n",
      "Sex                         0.623729\n",
      "Age-SibSp                   0.623729\n",
      "Age                         0.623729\n",
      "Pclass                      0.623729\n",
      "Sex-SibSp-Pclass            0.610169\n",
      "Age-Parch                   0.606780\n",
      "Sex-SibSp                   0.603390\n"
     ]
    }
   ],
   "source": [
    "mnb_results = {}\n",
    "\n",
    "for combo in combos:\n",
    "    df = pd.DataFrame()\n",
    "    \n",
    "    for c in combo:\n",
    "        df = pd.concat([df, training[c]], axis = 1)\n",
    "    \n",
    "    if len(c) > 1:\n",
    "        separator = \"-\"\n",
    "        joined = separator.join(combo)\n",
    "    else:\n",
    "        joined = combo\n",
    "        \n",
    "    score = multinb(df, survived)\n",
    "    \n",
    "    mnb_results[joined] = score\n",
    "\n",
    "mnb_results_df = pd.DataFrame.from_dict(mnb_results, orient = \"index\")\n",
    "print(mnb_results_df.sort_values(by=0, ascending = False))"
   ]
  },
  {
   "cell_type": "markdown",
   "metadata": {},
   "source": [
    "### Multinomial Naive Bayes Results\n",
    "\n",
    "From the above, we see that generally, Multinomial Naive Bayes doesn't have very great scores, no matter what combination of the desired features. The highest score achieved is 0.732 using Sex, Parch, and Age, which mostly agrees with my hypothesis and Sex and Age would be the largest factors. Parch also makes sense, as number of parents/children would indicate families, most likely to stay together and survive (or not) together, or mother-child groups prioritized to survive."
   ]
  },
  {
   "cell_type": "markdown",
   "metadata": {},
   "source": [
    "### ROC Curve for Multinomial Naive Bayes"
   ]
  },
  {
   "cell_type": "code",
   "execution_count": 7,
   "metadata": {},
   "outputs": [],
   "source": [
    "# Compute ROC curve and ROC area for best model\n",
    "\n",
    "best_mnb = [\"Sex\", \"Parch\", \"Age\"]\n",
    "best_df = pd.DataFrame()\n",
    "for b in best_mnb:\n",
    "    best_df = pd.concat([best_df, training[b]], axis = 1)\n",
    "\n",
    "# Need the y_test data and prediction probabilities\n",
    "X_train, X_test, y_train, y_test = train_test_split(best_df, survived, test_size = 0.33, random_state = 0)\n",
    "\n",
    "# Fit and get prediction probabilities\n",
    "multinb = MultinomialNB()\n",
    "predict_prob = multinb.fit(X_train, y_train).predict_proba(X_test)\n",
    "\n",
    "fpr = dict()\n",
    "tpr = dict()\n",
    "roc_auc = dict()\n",
    "fpr, tpr, _ = roc_curve(y_test, predict_prob[:,1])\n",
    "roc_auc = auc(fpr, tpr)"
   ]
  },
  {
   "cell_type": "code",
   "execution_count": 8,
   "metadata": {},
   "outputs": [
    {
     "data": {
      "image/png": "[encoded data removed]",
      "text/plain": [
       "<Figure size 720x504 with 1 Axes>"
      ]
     },
     "metadata": {
      "needs_background": "light"
     },
     "output_type": "display_data"
    }
   ],
   "source": [
    "fig,ax = plt.subplots(figsize=(10,7))\n",
    "lw = 2\n",
    "ax.plot(fpr, tpr, color='darkorange',\n",
    "         lw=lw, label='ROC curve (area = %0.2f)' % roc_auc)\n",
    "ax.plot([0, 1], [0, 1], color='navy', lw=lw, linestyle='--')\n",
    "ax.set_xlim([0.0, 1.0])\n",
    "ax.set_ylim([0.0, 1.05])\n",
    "ax.set_xlabel('False Positive Rate', fontsize=14)\n",
    "ax.set_ylabel('True Positive Rate', fontsize=14)\n",
    "ax.set_title('Receiver operating characteristic', fontsize=16)\n",
    "ax.legend(loc=\"lower right\", fontsize=12)\n",
    "ax.tick_params(axis=\"both\", labelsize=12)"
   ]
  },
  {
   "cell_type": "markdown",
   "metadata": {},
   "source": [
    "Here, the ROC curve provides a much better illustration of the predictive ability than just the score value. Ideally, we want very high values in the very beginning, with the area of the curve as close to 1 as possible."
   ]
  },
  {
   "cell_type": "markdown",
   "metadata": {},
   "source": [
    "## Random Forests\n",
    "\n",
    "Now I will move on to implementing Random Forests, an ensemble model relying on bootstrap aggregation, using a different random subset for each model in the ensemble. \n",
    "\n",
    "For consistency, I will be using the same set of features as with Multinomial Naive Bayes."
   ]
  },
  {
   "cell_type": "code",
   "execution_count": 34,
   "metadata": {},
   "outputs": [],
   "source": [
    "def random_forest(x, y, d):\n",
    "    \"\"\"\n",
    "    \n",
    "    This function performs the required functions for fitting and prediction a Logistic Regression model\n",
    "    from given x and y datasets.\n",
    "    \n",
    "    Args:\n",
    "        x (array-like): independent data\n",
    "        y (array-like): target data\n",
    "        \n",
    "    Return:\n",
    "        score (float): Mean accuracy of the model on the given test and target data\n",
    "    \n",
    "    \"\"\"\n",
    "    # Train Test Split\n",
    "    X_train, X_test, y_train, y_test = train_test_split(x, y, test_size = 0.33, random_state = 0)\n",
    "    \n",
    "    # Fit and predict model\n",
    "    rf = RandomForestClassifier(max_depth=d, random_state=0)\n",
    "    rf.fit(X_train, y_train)\n",
    "    \n",
    "    predicted = rf.predict(X_test)\n",
    "    predicted\n",
    "    \n",
    "    rf.predict(X_test)\n",
    "    score = rf.score(X_test, y_test)\n",
    "    \n",
    "    return score"
   ]
  },
  {
   "cell_type": "markdown",
   "metadata": {},
   "source": [
    "As Random Forests has a depth variable, I want to determine the best depth to use. Thus, the below will loop through depths from 2 to 10, 10 being arbitrarily chosen as the deepest I want the tree to be."
   ]
  },
  {
   "cell_type": "code",
   "execution_count": 82,
   "metadata": {},
   "outputs": [
    {
     "name": "stdout",
     "output_type": "stream",
     "text": [
      "0.7966101694915254\n",
      "0.8067796610169492\n",
      "0.8135593220338984\n",
      "0.8169491525423729\n",
      "0.8271186440677966\n",
      "0.823728813559322\n",
      "0.8169491525423729\n",
      "0.8067796610169492\n",
      "0.7932203389830509\n",
      "6\n"
     ]
    }
   ],
   "source": [
    "old_max = 0\n",
    "new_max = 0\n",
    "\n",
    "for d in range(2,11):\n",
    "    rf_results = {}\n",
    "\n",
    "    for combo in combos:\n",
    "        #try:\n",
    "        df = pd.DataFrame()\n",
    "\n",
    "        for c in combo:\n",
    "            df = pd.concat([df, training[c]], axis = 1)\n",
    "\n",
    "        if len(c) > 1:\n",
    "            separator = \"-\"\n",
    "            joined = separator.join(combo)\n",
    "        else:\n",
    "            joined = combo\n",
    "\n",
    "        score = random_forest(df, survived, d)\n",
    "\n",
    "        rf_results[joined] = score\n",
    "\n",
    "    rf_results_df = pd.DataFrame.from_dict(rf_results, orient = \"index\")\n",
    "    rf_results_max = rf_results_df[0].argmax()\n",
    "    rf_max_score = rf_results_df[rf_results_df.index.str.startswith(rf_results_max)][0][rf_results_max]\n",
    "    print(rf_max_score)\n",
    "    \n",
    "    if rf_max_score > old_max:\n",
    "        old_max = rf_max_score\n",
    "        new_max = d\n",
    "        \n",
    "print(new_max)\n"
   ]
  },
  {
   "cell_type": "code",
   "execution_count": 84,
   "metadata": {},
   "outputs": [
    {
     "name": "stdout",
     "output_type": "stream",
     "text": [
      "                                   0\n",
      "Age-Sex-SibSp-Pclass        0.827119\n",
      "Age-Sex-Parch-SibSp         0.820339\n",
      "Parch-SibSp-Pclass-Sex-Age  0.816949\n",
      "Age-Sex-SibSp               0.810169\n",
      "Age-Sex-Parch-Pclass        0.806780\n",
      "Age-Sex-Parch               0.796610\n",
      "Sex-SibSp-Pclass            0.796610\n",
      "Age-Sex-Pclass              0.793220\n",
      "Sex-Parch-Pclass            0.789831\n",
      "Sex-Parch-SibSp-Pclass      0.789831\n",
      "Sex-SibSp                   0.789831\n",
      "Sex-Parch                   0.786441\n",
      "Age-Sex                     0.783051\n",
      "Sex-Pclass                  0.783051\n",
      "Sex                         0.783051\n",
      "Sex-Parch-SibSp             0.776271\n",
      "Age-SibSp-Pclass            0.718644\n",
      "Parch-Pclass                0.711864\n",
      "Age-Parch-SibSp-Pclass      0.708475\n",
      "Age-Parch-Pclass            0.705085\n",
      "Parch-SibSp-Pclass          0.701695\n",
      "SibSp-Pclass                0.684746\n",
      "Age-SibSp                   0.684746\n",
      "Pclass                      0.681356\n",
      "Age-Pclass                  0.674576\n",
      "Age-Parch-SibSp             0.650847\n",
      "Parch-SibSp                 0.650847\n",
      "Age                         0.644068\n",
      "Age-Parch                   0.640678\n",
      "Parch                       0.637288\n",
      "SibSp                       0.623729\n"
     ]
    }
   ],
   "source": [
    "rf_results = {}\n",
    "\n",
    "for combo in combos:\n",
    "    #try:\n",
    "    df = pd.DataFrame()\n",
    "\n",
    "    for c in combo:\n",
    "        df = pd.concat([df, training[c]], axis = 1)\n",
    "\n",
    "    if len(c) > 1:\n",
    "        separator = \"-\"\n",
    "        joined = separator.join(combo)\n",
    "    else:\n",
    "        joined = combo\n",
    "\n",
    "    score = random_forest(df, survived, new_max)\n",
    "\n",
    "    rf_results[joined] = score\n",
    "\n",
    "rf_results_df = pd.DataFrame.from_dict(rf_results, orient = \"index\")\n",
    "print(rf_results_df.sort_values(by=0, ascending = False))"
   ]
  },
  {
   "cell_type": "markdown",
   "metadata": {},
   "source": [
    "### Random Forest Results\n",
    "\n",
    "Here, we see high scores than with Multinomial Naive Bayes, and even over 80%, with a score of 0.827 with Age, Sex, SibSp, and Pclass. We still see that Age and Sex are features that are included in the combination of features with the best score."
   ]
  }
 ],
 "metadata": {
  "kernelspec": {
   "display_name": "Python 3",
   "language": "python",
   "name": "python3"
  },
  "language_info": {
   "codemirror_mode": {
    "name": "ipython",
    "version": 3
   },
   "file_extension": ".py",
   "mimetype": "text/x-python",
   "name": "python",
   "nbconvert_exporter": "python",
   "pygments_lexer": "ipython3",
   "version": "3.6.7"
  }
 },
 "nbformat": 4,
 "nbformat_minor": 2
}
